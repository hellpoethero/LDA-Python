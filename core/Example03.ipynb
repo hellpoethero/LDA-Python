{
 "cells": [
  {
   "cell_type": "code",
   "execution_count": null,
   "outputs": [],
   "source": [
    "import pandas as pd\n",
    "import numpy as np\n",
    "\n",
    "ranks = pd.read_csv(\"D:/Research/Project/LDA/results/go_ny_K4_I100.csv\", index_col =0)\n",
    "max_rank = max(ranks['rank'].values)\n",
    "num_record = len(ranks['rank'])"
   ],
   "metadata": {
    "collapsed": false,
    "pycharm": {
     "name": "#%%\n"
    }
   }
  },
  {
   "cell_type": "code",
   "execution_count": 46,
   "outputs": [
    {
     "data": {
      "text/plain": "<Figure size 432x288 with 1 Axes>",
      "image/png": "[encoded data removed]"
     },
     "metadata": {
      "needs_background": "light"
     },
     "output_type": "display_data"
    }
   ],
   "source": [
    "import matplotlib.pyplot as plt\n",
    "%matplotlib inline\n",
    "\n",
    "\n",
    "unique, counts = np.unique(ranks['rank'].values, return_counts=True)\n",
    "cum_counts = np.cumsum(counts) / num_record\n",
    "plt.plot(unique / max_rank, cum_counts)\n",
    "plt.plot(unique / max_rank, unique / max_rank)\n",
    "plt.show()"
   ],
   "metadata": {
    "collapsed": false,
    "pycharm": {
     "name": "#%%\n",
     "is_executing": false
    }
   }
  },
  {
   "cell_type": "code",
   "execution_count": 43,
   "outputs": [
    {
     "name": "stdout",
     "text": [
      "0.7988843603043939\n"
     ],
     "output_type": "stream"
    }
   ],
   "source": [
    "auc = 0.0\n",
    "prev_value = [0, 0]\n",
    "for value in zip(unique/max_rank, cum_counts):\n",
    "# for value in zip(unique, counts):\n",
    "    s = (value[0] - prev_value[0]) * (value[1] + prev_value[1])/2\n",
    "    auc += s\n",
    "    prev_value = value\n",
    "    # print(prev_value)\n",
    "\n",
    "print(auc)"
   ],
   "metadata": {
    "collapsed": false,
    "pycharm": {
     "name": "#%%\n",
     "is_executing": false
    }
   }
  },
  {
   "cell_type": "code",
   "execution_count": 33,
   "outputs": [
    {
     "name": "stdout",
     "text": [
      "[1041  471  238 ...    1    1    1]\n"
     ],
     "output_type": "stream"
    }
   ],
   "source": [
    "print(counts)\n",
    "\n"
   ],
   "metadata": {
    "collapsed": false,
    "pycharm": {
     "name": "#%%\n",
     "is_executing": false
    }
   }
  }
 ],
 "metadata": {
  "kernelspec": {
   "name": "python3",
   "language": "python",
   "display_name": "Python 3"
  },
  "language_info": {
   "codemirror_mode": {
    "name": "ipython",
    "version": 2
   },
   "file_extension": ".py",
   "mimetype": "text/x-python",
   "name": "python",
   "nbconvert_exporter": "python",
   "pygments_lexer": "ipython2",
   "version": "2.7.6"
  },
  "pycharm": {
   "stem_cell": {
    "cell_type": "raw",
    "source": [],
    "metadata": {
     "collapsed": false
    }
   }
  }
 },
 "nbformat": 4,
 "nbformat_minor": 0
}