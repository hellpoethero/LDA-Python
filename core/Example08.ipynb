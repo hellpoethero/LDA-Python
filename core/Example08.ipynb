{
 "cells": [
  {
   "cell_type": "code",
   "execution_count": 48,
   "metadata": {
    "collapsed": true,
    "pycharm": {
     "is_executing": false
    }
   },
   "outputs": [
    {
     "data": {
      "text/plain": "653690"
     },
     "metadata": {},
     "output_type": "execute_result",
     "execution_count": 48
    }
   ],
   "source": [
    "%matplotlib notebook\n",
    "%matplotlib inline\n",
    "import pandas as pd\n",
    "import numpy as np\n",
    "import matplotlib.pyplot as plt\n",
    "\n",
    "\n",
    "path = r\"D:/Download/data/\"\n",
    "# datasetName = \"lastfm_sample_190617/\"\n",
    "datasetName = r\"\\lastfm\"\n",
    "trainFile = path + datasetName + r\"\\train.csv\"\n",
    "validationFile = path + datasetName + r\"\\validation.csv\"\n",
    "testFile = path + datasetName + r\"\\test.csv\"\n",
    "train = pd.read_csv(trainFile, header=None)\n",
    "validation = pd.read_csv(validationFile, header=None)\n",
    "test = pd.read_csv(testFile, header=None)\n",
    "\n",
    "train.columns = [\"user_id\", \"loc_id\", \"count\"]\n",
    "validation.columns = [\"user_id\", \"loc_id\", \"count\"]\n",
    "test.columns = [\"user_id\", \"loc_id\", \"count\"]\n",
    "\n",
    "train_valid = pd.concat([train, validation])\n",
    "len(train_valid)"
   ]
  },
  {
   "cell_type": "code",
   "execution_count": 54,
   "outputs": [
    {
     "data": {
      "text/plain": "10"
     },
     "metadata": {},
     "output_type": "execute_result",
     "execution_count": 54
    }
   ],
   "source": [
    "d = train_valid.groupby(['loc_id'])['user_id'].apply(np.unique).apply(lambda x: len(x)).reset_index()\n",
    "loc_id_list = d[d['user_id'] >= 10]['loc_id'].to_list()\n",
    "# train_valid = train_valid[train_valid['loc_id'].isin(loc_id_list)]\n",
    "# len(train_valid)"
   ],
   "metadata": {
    "collapsed": false,
    "pycharm": {
     "name": "#%%\n",
     "is_executing": false
    }
   }
  },
  {
   "cell_type": "code",
   "execution_count": 78,
   "outputs": [
    {
     "data": {
      "text/plain": "(array([3.41121016e-02, 1.95921713e-02, 1.11794241e-02, 7.36755815e-03,\n        5.78952762e-03, 3.87334768e-03, 2.80766472e-03, 2.20309458e-03,\n        1.66000615e-03, 1.36284455e-03, 1.23988114e-03, 1.03494210e-03,\n        9.32472589e-04, 8.91484783e-04, 5.94323189e-04, 6.25064043e-04,\n        4.09878061e-04, 3.89384158e-04, 3.79137207e-04, 2.86914643e-04,\n        2.97161594e-04, 2.97161594e-04, 2.45926837e-04, 3.38149401e-04,\n        2.45926837e-04, 2.04939031e-04, 1.53704273e-04, 1.74198176e-04,\n        1.12716467e-04, 1.02469515e-04, 1.43457321e-04, 1.53704273e-04,\n        7.17286607e-05, 7.17286607e-05, 4.09878061e-05, 3.07408546e-05,\n        5.12347577e-05, 5.12347577e-05, 5.12347577e-05, 6.14817092e-05,\n        4.09878061e-05, 6.14817092e-05, 3.07408546e-05, 4.09878061e-05,\n        3.07408546e-05, 3.07408546e-05, 2.04939031e-05, 6.14817092e-05,\n        1.02469515e-05, 1.02469515e-05, 0.00000000e+00, 1.02469515e-05,\n        0.00000000e+00, 1.02469515e-05, 0.00000000e+00, 0.00000000e+00,\n        0.00000000e+00, 0.00000000e+00, 0.00000000e+00, 1.02469515e-05]),\n array([ 10,  20,  30,  40,  50,  60,  70,  80,  90, 100, 110, 120, 130,\n        140, 150, 160, 170, 180, 190, 200, 210, 220, 230, 240, 250, 260,\n        270, 280, 290, 300, 310, 320, 330, 340, 350, 360, 370, 380, 390,\n        400, 410, 420, 430, 440, 450, 460, 470, 480, 490, 500, 510, 520,\n        530, 540, 550, 560, 570, 580, 590, 600, 610]),\n <a list of 60 Patch objects>)"
     },
     "metadata": {},
     "output_type": "execute_result",
     "execution_count": 78
    },
    {
     "data": {
      "text/plain": "<Figure size 432x288 with 1 Axes>",
      "image/png": "[encoded data removed]"
     },
     "metadata": {
      "needs_background": "light"
     },
     "output_type": "display_data"
    }
   ],
   "source": [
    "%matplotlib notebook\n",
    "%matplotlib inline\n",
    "import pandas as pd\n",
    "import numpy as np\n",
    "import matplotlib.pyplot as plt\n",
    "\n",
    "\n",
    "binwidth = 10\n",
    "count_list = d['user_id'].to_list()\n",
    "plt.hist(count_list, density=True, bins=range(min(count_list), max(count_list) + binwidth, binwidth))"
   ],
   "metadata": {
    "collapsed": false,
    "pycharm": {
     "name": "#%%\n",
     "is_executing": false
    }
   }
  },
  {
   "cell_type": "code",
   "execution_count": 55,
   "outputs": [
    {
     "name": "stdout",
     "text": [
      "574185\n"
     ],
     "output_type": "stream"
    }
   ],
   "source": [
    "train_user_set = set(train_valid['user_id'].tolist())\n",
    "test_user_set = set(test['user_id'].tolist())\n",
    "user_of_interest = train_user_set.intersection(test_user_set)\n",
    "train_valid = train_valid[train_valid['user_id'].isin(user_of_interest) & train_valid['loc_id'].isin(loc_id_list)]\n",
    "test = test[test['user_id'].isin(train_valid['user_id'].to_list())]\n",
    "print(len(train_valid))"
   ],
   "metadata": {
    "collapsed": false,
    "pycharm": {
     "name": "#%%\n",
     "is_executing": false
    }
   }
  },
  {
   "cell_type": "code",
   "execution_count": 56,
   "outputs": [
    {
     "data": {
      "text/plain": "77633"
     },
     "metadata": {},
     "output_type": "execute_result",
     "execution_count": 56
    }
   ],
   "source": [
    "test = test[test['loc_id'].isin(train_valid['loc_id'].to_list())]\n",
    "len(test)"
   ],
   "metadata": {
    "collapsed": false,
    "pycharm": {
     "name": "#%%\n",
     "is_executing": false
    }
   }
  },
  {
   "cell_type": "code",
   "execution_count": 57,
   "outputs": [],
   "source": [
    "def function01(data, train):\n",
    "\tarray = []\n",
    "\tfor index, row in data.iterrows():\n",
    "\t\ttemp = [[row['user_id'], row['loc_id'], train]] * row['count']\n",
    "\t\tarray.extend(temp)\n",
    "\n",
    "\tdf = pd.DataFrame(array)\n",
    "\t# df = df.sample(frac=0.4, replace=True, random_state=1)\n",
    "\tdf.columns = [\"user_id\", \"loc_id\", \"train\"]\n",
    "\treturn df\n",
    "\n",
    "df = pd.concat([function01(train_valid, 1), function01(test, 0)])"
   ],
   "metadata": {
    "collapsed": false,
    "pycharm": {
     "name": "#%%\n",
     "is_executing": false
    }
   }
  },
  {
   "cell_type": "code",
   "execution_count": 64,
   "outputs": [],
   "source": [
    "loc_df = pd.DataFrame(df['loc_id'].unique())\n",
    "loc_df['index1'] = loc_df.index\n",
    "loc_df.columns = ['loc_id', 'index1']\n",
    "\n",
    "user_df = pd.DataFrame(df['user_id'].unique())\n",
    "user_df['index2'] = user_df.index\n",
    "user_df.columns = ['user_id', 'index2']"
   ],
   "metadata": {
    "collapsed": false,
    "pycharm": {
     "name": "#%%\n",
     "is_executing": false
    }
   }
  },
  {
   "cell_type": "code",
   "execution_count": 65,
   "outputs": [],
   "source": [
    "new_df = pd.merge(df, loc_df, how='inner', left_on=['loc_id'], right_on=['loc_id']) \\\n",
    "\t[['user_id', 'index1', 'train']]\n",
    "new_df = pd.merge(new_df, user_df, how='inner', left_on=['user_id'], right_on=['user_id']) \\\n",
    "\t[['index2', 'index1', 'train']]\n",
    "\n",
    "new_df.columns = ['user_id', 'loc_id', 'train']"
   ],
   "metadata": {
    "collapsed": false,
    "pycharm": {
     "name": "#%%\n",
     "is_executing": false
    }
   }
  },
  {
   "cell_type": "code",
   "execution_count": 70,
   "outputs": [
    {
     "data": {
      "text/plain": "             index  user_id  loc_id  train\n0             9817        0     229      1\n1              782        0      22      1\n2             7413        0     185      1\n3             3355        0      73      1\n4             3470        0      80      1\n5              300        0      19      1\n6             4109        0      96      1\n7             4228        0     102      1\n8               35        0       1      1\n9             5052        0     136      1\n10             928        0      25      1\n11            8494        0     215      1\n12            2024        0      43      1\n13            6260        0     156      1\n14            2539        0      59      1\n15            1171        0      31      1\n16            6671        0     162      1\n17            7418        0     185      1\n18            1979        0      43      1\n19            1167        0      31      1\n20             988        0      25      1\n21            6410        0     157      1\n22            5951        0     153      1\n23            2619        0      64      1\n24            8395        0     206      1\n25            7668        0     187      1\n26            8767        0     219      1\n27            9496        0     220      1\n28            4885        0     128      1\n29            1677        0      43      1\n...            ...      ...     ...    ...\n14252175  12652384      837    5485      0\n14252176  12651992      837     944      0\n14252177  12652127      837    2305      0\n14252178  12652334      837    5327      0\n14252179  12651830      837      25      0\n14252180  12651920      837     424      0\n14252181  12652014      837    1129      0\n14252182  12651859      837     156      0\n14252183  12652035      837    1581      0\n14252184  12652200      837    2605      0\n14252185  12652240      837    3683      0\n14252186  12652295      837    3828      0\n14252187  12652040      837    1581      0\n14252188  12651870      837     234      0\n14252189  12652356      837    5436      0\n14252190  12651908      837     424      0\n14252191  12652043      837    1581      0\n14252192  12652402      837    6311      0\n14252193  12652052      837    1780      0\n14252194  12652141      837    2305      0\n14252195  12652309      837    4342      0\n14252196  12652058      837    1875      0\n14252197  12652394      837    6140      0\n14252198  12652387      837    5580      0\n14252199  12652124      837    2305      0\n14252200  12651951      837     786      0\n14252201  12652316      837    4584      0\n14252202  12652041      837    1581      0\n14252203  12652311      837    4509      0\n14252204  12652221      837    3567      0\n\n[14252205 rows x 4 columns]",
      "text/html": "<div>\n<style scoped>\n    .dataframe tbody tr th:only-of-type {\n        vertical-align: middle;\n    }\n\n    .dataframe tbody tr th {\n        vertical-align: top;\n    }\n\n    .dataframe thead th {\n        text-align: right;\n    }\n</style>\n<table border=\"1\" class=\"dataframe\">\n  <thead>\n    <tr style=\"text-align: right;\">\n      <th></th>\n      <th>index</th>\n      <th>user_id</th>\n      <th>loc_id</th>\n      <th>train</th>\n    </tr>\n  </thead>\n  <tbody>\n    <tr>\n      <th>0</th>\n      <td>9817</td>\n      <td>0</td>\n      <td>229</td>\n      <td>1</td>\n    </tr>\n    <tr>\n      <th>1</th>\n      <td>782</td>\n      <td>0</td>\n      <td>22</td>\n      <td>1</td>\n    </tr>\n    <tr>\n      <th>2</th>\n      <td>7413</td>\n      <td>0</td>\n      <td>185</td>\n      <td>1</td>\n    </tr>\n    <tr>\n      <th>3</th>\n      <td>3355</td>\n      <td>0</td>\n      <td>73</td>\n      <td>1</td>\n    </tr>\n    <tr>\n      <th>4</th>\n      <td>3470</td>\n      <td>0</td>\n      <td>80</td>\n      <td>1</td>\n    </tr>\n    <tr>\n      <th>5</th>\n      <td>300</td>\n      <td>0</td>\n      <td>19</td>\n      <td>1</td>\n    </tr>\n    <tr>\n      <th>6</th>\n      <td>4109</td>\n      <td>0</td>\n      <td>96</td>\n      <td>1</td>\n    </tr>\n    <tr>\n      <th>7</th>\n      <td>4228</td>\n      <td>0</td>\n      <td>102</td>\n      <td>1</td>\n    </tr>\n    <tr>\n      <th>8</th>\n      <td>35</td>\n      <td>0</td>\n      <td>1</td>\n      <td>1</td>\n    </tr>\n    <tr>\n      <th>9</th>\n      <td>5052</td>\n      <td>0</td>\n      <td>136</td>\n      <td>1</td>\n    </tr>\n    <tr>\n      <th>10</th>\n      <td>928</td>\n      <td>0</td>\n      <td>25</td>\n      <td>1</td>\n    </tr>\n    <tr>\n      <th>11</th>\n      <td>8494</td>\n      <td>0</td>\n      <td>215</td>\n      <td>1</td>\n    </tr>\n    <tr>\n      <th>12</th>\n      <td>2024</td>\n      <td>0</td>\n      <td>43</td>\n      <td>1</td>\n    </tr>\n    <tr>\n      <th>13</th>\n      <td>6260</td>\n      <td>0</td>\n      <td>156</td>\n      <td>1</td>\n    </tr>\n    <tr>\n      <th>14</th>\n      <td>2539</td>\n      <td>0</td>\n      <td>59</td>\n      <td>1</td>\n    </tr>\n    <tr>\n      <th>15</th>\n      <td>1171</td>\n      <td>0</td>\n      <td>31</td>\n      <td>1</td>\n    </tr>\n    <tr>\n      <th>16</th>\n      <td>6671</td>\n      <td>0</td>\n      <td>162</td>\n      <td>1</td>\n    </tr>\n    <tr>\n      <th>17</th>\n      <td>7418</td>\n      <td>0</td>\n      <td>185</td>\n      <td>1</td>\n    </tr>\n    <tr>\n      <th>18</th>\n      <td>1979</td>\n      <td>0</td>\n      <td>43</td>\n      <td>1</td>\n    </tr>\n    <tr>\n      <th>19</th>\n      <td>1167</td>\n      <td>0</td>\n      <td>31</td>\n      <td>1</td>\n    </tr>\n    <tr>\n      <th>20</th>\n      <td>988</td>\n      <td>0</td>\n      <td>25</td>\n      <td>1</td>\n    </tr>\n    <tr>\n      <th>21</th>\n      <td>6410</td>\n      <td>0</td>\n      <td>157</td>\n      <td>1</td>\n    </tr>\n    <tr>\n      <th>22</th>\n      <td>5951</td>\n      <td>0</td>\n      <td>153</td>\n      <td>1</td>\n    </tr>\n    <tr>\n      <th>23</th>\n      <td>2619</td>\n      <td>0</td>\n      <td>64</td>\n      <td>1</td>\n    </tr>\n    <tr>\n      <th>24</th>\n      <td>8395</td>\n      <td>0</td>\n      <td>206</td>\n      <td>1</td>\n    </tr>\n    <tr>\n      <th>25</th>\n      <td>7668</td>\n      <td>0</td>\n      <td>187</td>\n      <td>1</td>\n    </tr>\n    <tr>\n      <th>26</th>\n      <td>8767</td>\n      <td>0</td>\n      <td>219</td>\n      <td>1</td>\n    </tr>\n    <tr>\n      <th>27</th>\n      <td>9496</td>\n      <td>0</td>\n      <td>220</td>\n      <td>1</td>\n    </tr>\n    <tr>\n      <th>28</th>\n      <td>4885</td>\n      <td>0</td>\n      <td>128</td>\n      <td>1</td>\n    </tr>\n    <tr>\n      <th>29</th>\n      <td>1677</td>\n      <td>0</td>\n      <td>43</td>\n      <td>1</td>\n    </tr>\n    <tr>\n      <th>...</th>\n      <td>...</td>\n      <td>...</td>\n      <td>...</td>\n      <td>...</td>\n    </tr>\n    <tr>\n      <th>14252175</th>\n      <td>12652384</td>\n      <td>837</td>\n      <td>5485</td>\n      <td>0</td>\n    </tr>\n    <tr>\n      <th>14252176</th>\n      <td>12651992</td>\n      <td>837</td>\n      <td>944</td>\n      <td>0</td>\n    </tr>\n    <tr>\n      <th>14252177</th>\n      <td>12652127</td>\n      <td>837</td>\n      <td>2305</td>\n      <td>0</td>\n    </tr>\n    <tr>\n      <th>14252178</th>\n      <td>12652334</td>\n      <td>837</td>\n      <td>5327</td>\n      <td>0</td>\n    </tr>\n    <tr>\n      <th>14252179</th>\n      <td>12651830</td>\n      <td>837</td>\n      <td>25</td>\n      <td>0</td>\n    </tr>\n    <tr>\n      <th>14252180</th>\n      <td>12651920</td>\n      <td>837</td>\n      <td>424</td>\n      <td>0</td>\n    </tr>\n    <tr>\n      <th>14252181</th>\n      <td>12652014</td>\n      <td>837</td>\n      <td>1129</td>\n      <td>0</td>\n    </tr>\n    <tr>\n      <th>14252182</th>\n      <td>12651859</td>\n      <td>837</td>\n      <td>156</td>\n      <td>0</td>\n    </tr>\n    <tr>\n      <th>14252183</th>\n      <td>12652035</td>\n      <td>837</td>\n      <td>1581</td>\n      <td>0</td>\n    </tr>\n    <tr>\n      <th>14252184</th>\n      <td>12652200</td>\n      <td>837</td>\n      <td>2605</td>\n      <td>0</td>\n    </tr>\n    <tr>\n      <th>14252185</th>\n      <td>12652240</td>\n      <td>837</td>\n      <td>3683</td>\n      <td>0</td>\n    </tr>\n    <tr>\n      <th>14252186</th>\n      <td>12652295</td>\n      <td>837</td>\n      <td>3828</td>\n      <td>0</td>\n    </tr>\n    <tr>\n      <th>14252187</th>\n      <td>12652040</td>\n      <td>837</td>\n      <td>1581</td>\n      <td>0</td>\n    </tr>\n    <tr>\n      <th>14252188</th>\n      <td>12651870</td>\n      <td>837</td>\n      <td>234</td>\n      <td>0</td>\n    </tr>\n    <tr>\n      <th>14252189</th>\n      <td>12652356</td>\n      <td>837</td>\n      <td>5436</td>\n      <td>0</td>\n    </tr>\n    <tr>\n      <th>14252190</th>\n      <td>12651908</td>\n      <td>837</td>\n      <td>424</td>\n      <td>0</td>\n    </tr>\n    <tr>\n      <th>14252191</th>\n      <td>12652043</td>\n      <td>837</td>\n      <td>1581</td>\n      <td>0</td>\n    </tr>\n    <tr>\n      <th>14252192</th>\n      <td>12652402</td>\n      <td>837</td>\n      <td>6311</td>\n      <td>0</td>\n    </tr>\n    <tr>\n      <th>14252193</th>\n      <td>12652052</td>\n      <td>837</td>\n      <td>1780</td>\n      <td>0</td>\n    </tr>\n    <tr>\n      <th>14252194</th>\n      <td>12652141</td>\n      <td>837</td>\n      <td>2305</td>\n      <td>0</td>\n    </tr>\n    <tr>\n      <th>14252195</th>\n      <td>12652309</td>\n      <td>837</td>\n      <td>4342</td>\n      <td>0</td>\n    </tr>\n    <tr>\n      <th>14252196</th>\n      <td>12652058</td>\n      <td>837</td>\n      <td>1875</td>\n      <td>0</td>\n    </tr>\n    <tr>\n      <th>14252197</th>\n      <td>12652394</td>\n      <td>837</td>\n      <td>6140</td>\n      <td>0</td>\n    </tr>\n    <tr>\n      <th>14252198</th>\n      <td>12652387</td>\n      <td>837</td>\n      <td>5580</td>\n      <td>0</td>\n    </tr>\n    <tr>\n      <th>14252199</th>\n      <td>12652124</td>\n      <td>837</td>\n      <td>2305</td>\n      <td>0</td>\n    </tr>\n    <tr>\n      <th>14252200</th>\n      <td>12651951</td>\n      <td>837</td>\n      <td>786</td>\n      <td>0</td>\n    </tr>\n    <tr>\n      <th>14252201</th>\n      <td>12652316</td>\n      <td>837</td>\n      <td>4584</td>\n      <td>0</td>\n    </tr>\n    <tr>\n      <th>14252202</th>\n      <td>12652041</td>\n      <td>837</td>\n      <td>1581</td>\n      <td>0</td>\n    </tr>\n    <tr>\n      <th>14252203</th>\n      <td>12652311</td>\n      <td>837</td>\n      <td>4509</td>\n      <td>0</td>\n    </tr>\n    <tr>\n      <th>14252204</th>\n      <td>12652221</td>\n      <td>837</td>\n      <td>3567</td>\n      <td>0</td>\n    </tr>\n  </tbody>\n</table>\n<p>14252205 rows × 4 columns</p>\n</div>"
     },
     "metadata": {},
     "output_type": "execute_result",
     "execution_count": 70
    }
   ],
   "source": [
    "new_df = new_df.sample(frac=1, random_state=123).sort_values(by=['user_id', 'train'], ascending=[1, 0]).reset_index()\n",
    "new_df"
   ],
   "metadata": {
    "collapsed": false,
    "pycharm": {
     "name": "#%%\n",
     "is_executing": false
    }
   }
  },
  {
   "cell_type": "code",
   "execution_count": 69,
   "outputs": [
    {
     "data": {
      "text/plain": "14252205"
     },
     "metadata": {},
     "output_type": "execute_result",
     "execution_count": 69
    }
   ],
   "source": [
    "len(df)\n"
   ],
   "metadata": {
    "collapsed": false,
    "pycharm": {
     "name": "#%%\n",
     "is_executing": false
    }
   }
  }
 ],
 "metadata": {
  "language_info": {
   "codemirror_mode": {
    "name": "ipython",
    "version": 2
   },
   "file_extension": ".py",
   "mimetype": "text/x-python",
   "name": "python",
   "nbconvert_exporter": "python",
   "pygments_lexer": "ipython2",
   "version": "2.7.6"
  },
  "kernelspec": {
   "name": "python3",
   "language": "python",
   "display_name": "Python 3"
  },
  "pycharm": {
   "stem_cell": {
    "cell_type": "raw",
    "source": [],
    "metadata": {
     "collapsed": false
    }
   }
  }
 },
 "nbformat": 4,
 "nbformat_minor": 0
}