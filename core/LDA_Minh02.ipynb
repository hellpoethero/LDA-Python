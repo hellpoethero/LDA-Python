{
 "cells": [
  {
   "cell_type": "code",
   "execution_count": 1,
   "outputs": [
    {
     "name": "stdout",
     "text": [
      "137474\n"
     ],
     "output_type": "stream"
    }
   ],
   "source": [
    "import datetime\n",
    "import pandas as pd\n",
    "import numpy as np\n",
    "import random\n",
    "from scipy import sparse\n",
    "from scipy.special import digamma\n",
    "from scipy.sparse import csr_matrix\n",
    "from time import time\n",
    "from functools import reduce\n",
    "# from guppy import hpy\n",
    "\n",
    "K = 9\n",
    "numIter = 100\n",
    "\n",
    "path = r\"D:/Download/data/\"\n",
    "# datasetName = \"lastfm_sample_190617/\"\n",
    "datasetName = r\"\\go_sf\"\n",
    "trainFile = path + datasetName + r\"\\train.csv\"\n",
    "validationFile = path + datasetName + r\"\\validation.csv\"\n",
    "testFile = path + datasetName + r\"\\test.csv\"\n",
    "train = pd.read_csv(trainFile, header=None)\n",
    "validation = pd.read_csv(validationFile, header=None)\n",
    "test = pd.read_csv(testFile, header=None)\n",
    "\n",
    "train.columns = [\"user_id\", \"loc_id\", \"count\"]\n",
    "validation.columns = [\"user_id\", \"loc_id\", \"count\"]\n",
    "test.columns = [\"user_id\", \"loc_id\", \"count\"]\n",
    "\n",
    "def function01(data, train):\n",
    "\tarray = []\n",
    "\tfor index, row in data.iterrows():\n",
    "\t\ttemp = [[row['user_id'], row['loc_id'], train]] * row['count']\n",
    "\t\tarray.extend(temp)\n",
    "\n",
    "\tdf = pd.DataFrame(array)\n",
    "\t# df = df.sample(frac=0.4, replace=True, random_state=1)\n",
    "\tdf.columns = [\"user_id\", \"loc_id\", \"train\"]\n",
    "\treturn df\n",
    "\n",
    "train_df = function01(train,1)\n",
    "validation_df = function01(validation,1)\n",
    "test_df = function01(test, 0)\n",
    "# train_user_set = set(train_df['user_id'].tolist())\n",
    "# validation_user_set = set(validation_df['user_id'].tolist())\n",
    "# user_of_interest = train_user_set.intersection(validation_user_set)\n",
    "\n",
    "\n",
    "# train_df = train_df[train_df['user_id'].isin(user_of_interest)]\n",
    "# validation_df = validation_df[validation_df['user_id'].isin(user_of_interest)]\n",
    "# test_df = test_df[test_df['user_id'].isin(user_of_interest)]\n",
    "\n",
    "train_df = pd.concat([train_df,validation_df])\n",
    "test_df = test_df[test_df['loc_id'].isin(train_df['loc_id'].tolist())]\n",
    "\n",
    "df = pd.concat([train_df, test_df])\n",
    "\n",
    "loc_df = pd.DataFrame(df['loc_id'].unique())\n",
    "loc_df['index1'] = loc_df.index\n",
    "loc_df.columns = ['loc_id', 'index1']\n",
    "\n",
    "df = pd.merge(df, loc_df, how='inner', left_on=['loc_id'], right_on=['loc_id']) \\\n",
    "\t[['user_id', 'index1', 'train']]\n",
    "df.columns = ['user_id', 'loc_id', 'train']\n",
    "df = df.sample(frac=1, random_state=123).sort_values(by=['user_id', 'train'], ascending=[1, 0])\n",
    "\n",
    "# print(df[df['user_id'] == 100])\n",
    "num_record = len(df)\n",
    "print(num_record)\n"
   ],
   "metadata": {
    "collapsed": false,
    "pycharm": {
     "name": "#%%\n",
     "is_executing": false
    }
   }
  },
  {
   "cell_type": "code",
   "execution_count": 15,
   "outputs": [
    {
     "data": {
      "text/plain": "array([6.18298733e-04, 9.31085151e-04, 2.61867699e-04, ...,\n       2.18223082e-05, 2.90964110e-05, 9.45633356e-05])"
     },
     "metadata": {},
     "output_type": "execute_result",
     "execution_count": 15
    }
   ],
   "source": [
    "g = df.groupby(['loc_id'])['train'].apply(lambda x: x.count()).sort_index()\n",
    "# g = df.groupby(['loc_id'])['user_id'].apply(np.unique).apply(lambda x: len(x)).sort_index()\n",
    "g = np.array(g.tolist())\n",
    "g = g.T\n",
    "g = g / float(sum(g))\n",
    "g"
   ],
   "metadata": {
    "collapsed": false,
    "pycharm": {
     "name": "#%%\n",
     "is_executing": false
    }
   }
  },
  {
   "cell_type": "code",
   "execution_count": 9,
   "outputs": [],
   "source": [],
   "metadata": {
    "collapsed": false,
    "pycharm": {
     "name": "#%%\n",
     "is_executing": false
    }
   }
  }
 ],
 "metadata": {
  "kernelspec": {
   "display_name": "Python 3",
   "language": "python",
   "name": "python3"
  },
  "language_info": {
   "codemirror_mode": {
    "name": "ipython",
    "version": 3
   },
   "file_extension": ".py",
   "mimetype": "text/x-python",
   "name": "python",
   "nbconvert_exporter": "python",
   "pygments_lexer": "ipython3",
   "version": "3.7.1"
  },
  "pycharm": {
   "stem_cell": {
    "cell_type": "raw",
    "source": [],
    "metadata": {
     "collapsed": false
    }
   }
  }
 },
 "nbformat": 4,
 "nbformat_minor": 2
}