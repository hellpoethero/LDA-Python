{
 "cells": [
  {
   "cell_type": "code",
   "execution_count": 2,
   "metadata": {
    "pycharm": {
     "is_executing": false,
     "name": "#%%\n"
    }
   },
   "outputs": [
    {
     "name": "stdout",
     "text": [
      "lastfm_K2_I1\t[0.7080498072172127, 2849.4917655589798]\n"
     ],
     "output_type": "stream"
    },
    {
     "data": {
      "text/plain": "<Figure size 432x288 with 1 Axes>",
      "image/png": "[encoded data removed]"
     },
     "metadata": {
      "needs_background": "light"
     },
     "output_type": "display_data"
    }
   ],
   "source": [
    "%matplotlib notebook\n",
    "%matplotlib inline\n",
    "import pandas as pd\n",
    "import numpy as np\n",
    "import matplotlib.pyplot as plt\n",
    "\n",
    "\n",
    "folder = \"190718_2\"\n",
    "datasetname = \"lastfm\"\n",
    "time_str = \"\"\n",
    "sss = [datasetname+\"_K2_I1\",]\n",
    "\n",
    "repeated = 0\n",
    "index = 0\n",
    "for filename in sss:\n",
    "    full_path = \"D:/Research/Project/LDA/results/\"+folder+\"/\"+datasetname+\"/\" + filename + \".csv\"\n",
    "    ranks = pd.read_csv(full_path, index_col=0)\n",
    "    max_rank = max(ranks['rank'].values)\n",
    "    \n",
    "    rank_plot = ranks[ranks['repeated'] == repeated]\n",
    "    num_record = len(rank_plot['rank'])\n",
    "    \n",
    "    unique, counts = np.unique(rank_plot['rank'].values, return_counts=True)\n",
    "    if unique[-1] != max_rank:\n",
    "        unique = np.concatenate([unique, [max_rank]])\n",
    "        counts = np.concatenate([counts, [0]])\n",
    "    cum_counts = np.cumsum(counts) / num_record\n",
    "    \n",
    "    auc = 0.0\n",
    "    prev_value = [0, 0]\n",
    "    for value in zip(unique / max_rank, cum_counts):\n",
    "        if prev_value[0] != 0:\n",
    "            s = (value[1] + prev_value[1]) / 2 * (value[0] - prev_value[0])\n",
    "            auc += s\n",
    "        prev_value = value\n",
    "    \n",
    "    plt.plot(unique / max_rank, cum_counts, label=sss[index])\n",
    "    print(sss[index] + \"\\t\" + str([auc, np.mean(rank_plot['rank'].values)]))\n",
    "    index += 1\n",
    "\n",
    "plt.plot([0.0, 1.0], [0.0, 1.0], label=\"Standard\", linestyle=':', color='black')\n",
    "\n",
    "legend = plt.legend(loc='lower right', shadow=True, fontsize='medium')\n",
    "plt.show()\n",
    "\n",
    "# post_fix = \"_\" + str(repeated)\n",
    "# plt.savefig(\"D:/Research/Project/LDA/figure/\"+folder+\"/\"+datasetname+ post_fix +\".png\",\n",
    "#             dpi=300)"
   ]
  },
  {
   "cell_type": "code",
   "execution_count": null,
   "metadata": {
    "pycharm": {
     "name": "#%%\n"
    }
   },
   "outputs": [],
   "source": []
  }
 ],
 "metadata": {
  "kernelspec": {
   "display_name": "Python 3",
   "language": "python",
   "name": "python3"
  },
  "language_info": {
   "codemirror_mode": {
    "name": "ipython",
    "version": 3
   },
   "file_extension": ".py",
   "mimetype": "text/x-python",
   "name": "python",
   "nbconvert_exporter": "python",
   "pygments_lexer": "ipython3",
   "version": "3.7.3"
  },
  "pycharm": {
   "stem_cell": {
    "cell_type": "raw",
    "source": [],
    "metadata": {
     "collapsed": false
    }
   }
  }
 },
 "nbformat": 4,
 "nbformat_minor": 1
}