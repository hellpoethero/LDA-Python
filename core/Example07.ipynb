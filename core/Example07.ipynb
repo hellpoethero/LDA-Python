{
 "cells": [
  {
   "cell_type": "code",
   "execution_count": 69,
   "outputs": [],
   "source": [
    "import pandas as pd\n",
    "import numpy as np\n",
    "\n",
    "\n",
    "path = r\"D:/Download/data/\"\n",
    "# datasetName = \"lastfm_sample_190617/\"\n",
    "datasetName = r\"\\lastfm\"\n",
    "trainFile = path + datasetName + r\"\\train.csv\"\n",
    "validationFile = path + datasetName + r\"\\validation.csv\"\n",
    "testFile = path + datasetName + r\"\\test.csv\"\n",
    "train = pd.read_csv(trainFile, header=None)\n",
    "validation = pd.read_csv(validationFile, header=None)\n",
    "test = pd.read_csv(testFile, header=None)\n",
    "\n",
    "train.columns = [\"user_id\", \"loc_id\", \"count\"]\n",
    "validation.columns = [\"user_id\", \"loc_id\", \"count\"]\n",
    "test.columns = [\"user_id\", \"loc_id\", \"count\"]\n",
    "\n",
    "def function01(data, train):\n",
    "\tarray = []\n",
    "\tfor index, row in data.iterrows():\n",
    "\t\ttemp = [[row['user_id'], row['loc_id'], train]] * row['count']\n",
    "\t\tarray.extend(temp)\n",
    "\n",
    "\tdf = pd.DataFrame(array)\n",
    "\t# df = df.sample(frac=0.4, replace=True, random_state=1)\n",
    "\tdf.columns = [\"user_id\", \"loc_id\", \"train\"]\n",
    "\treturn df\n",
    "\n",
    "train_df = function01(train,1)\n",
    "validation_df = function01(validation,1)\n",
    "test_df = function01(test, 0)\n",
    "\n",
    "train_validation_df = pd.concat([train_df, validation_df])\n",
    "# test_df = test_df[test_df['loc_id'].isin(train_validation_df['loc_id'].tolist())]\n",
    "\n",
    "df = pd.concat([train_validation_df, test_df])"
   ],
   "metadata": {
    "collapsed": false,
    "pycharm": {
     "name": "#%%\n",
     "is_executing": false
    }
   }
  },
  {
   "cell_type": "code",
   "execution_count": 85,
   "outputs": [],
   "source": [
    "train_user_set = set(train_df['user_id'].tolist())\n",
    "validation_user_set = set(validation_df['user_id'].tolist())\n",
    "user_of_interest = train_user_set.intersection(validation_user_set)\n",
    "\n",
    "train_df_new = train_df[train_df['user_id'].isin(user_of_interest)]\n",
    "validation_df_new = validation_df[validation_df['user_id'].isin(user_of_interest)]\n",
    "test_df_new = test_df[test_df['user_id'].isin(user_of_interest)]"
   ],
   "metadata": {
    "collapsed": false,
    "pycharm": {
     "name": "#%%\n",
     "is_executing": false
    }
   }
  },
  {
   "cell_type": "code",
   "execution_count": 87,
   "outputs": [
    {
     "data": {
      "text/plain": "14992437"
     },
     "metadata": {},
     "output_type": "execute_result",
     "execution_count": 87
    }
   ],
   "source": [
    "# len(train_df_new) + len(validation_df_new) + len(test_df_new)\n",
    "# len(df)"
   ],
   "metadata": {
    "collapsed": false,
    "pycharm": {
     "name": "#%%\n",
     "is_executing": false
    }
   }
  },
  {
   "cell_type": "code",
   "execution_count": 88,
   "outputs": [],
   "source": [
    "new_df = pd.concat([train_df_new, validation_df_new, test_df_new])"
   ],
   "metadata": {
    "collapsed": false,
    "pycharm": {
     "name": "#%%\n",
     "is_executing": false
    }
   }
  },
  {
   "cell_type": "code",
   "execution_count": 148,
   "outputs": [
    {
     "data": {
      "text/plain": "     user_id   count\n0        606      42\n1        534     128\n2        502     146\n3        696     157\n4        452     159\n5        643     200\n6        224     299\n7        297     332\n8         35     357\n9        148     375\n10        56     419\n11       545     499\n12       675     588\n13       273     638\n14       235     677\n15       559     683\n16       602     689\n17       520     740\n18        47     934\n19       268     970\n20       636    1005\n21       632    1013\n22       409    1018\n23       444    1061\n24       635    1146\n25       600    1153\n26       140    1161\n27       615    1184\n28       694    1210\n29       402    1355\n..       ...     ...\n677       49   68700\n678      261   68798\n679      104   70009\n680      477   70599\n681      110   70678\n682      228   70973\n683      421   71009\n684      306   73197\n685      377   76766\n686      556   76880\n687      396   77317\n688      254   77405\n689      586   79312\n690       40   80037\n691      172   81103\n692      318   81475\n693      145   84433\n694      303   89088\n695       25   90318\n696      255   96754\n697      322  100418\n698      562  103441\n699      371  107149\n700      476  116219\n701      200  118561\n702      670  120603\n703      115  120620\n704      603  134821\n705      378  140019\n706      554  147920\n\n[707 rows x 2 columns]",
      "text/html": "<div>\n<style scoped>\n    .dataframe tbody tr th:only-of-type {\n        vertical-align: middle;\n    }\n\n    .dataframe tbody tr th {\n        vertical-align: top;\n    }\n\n    .dataframe thead th {\n        text-align: right;\n    }\n</style>\n<table border=\"1\" class=\"dataframe\">\n  <thead>\n    <tr style=\"text-align: right;\">\n      <th></th>\n      <th>user_id</th>\n      <th>count</th>\n    </tr>\n  </thead>\n  <tbody>\n    <tr>\n      <th>0</th>\n      <td>606</td>\n      <td>42</td>\n    </tr>\n    <tr>\n      <th>1</th>\n      <td>534</td>\n      <td>128</td>\n    </tr>\n    <tr>\n      <th>2</th>\n      <td>502</td>\n      <td>146</td>\n    </tr>\n    <tr>\n      <th>3</th>\n      <td>696</td>\n      <td>157</td>\n    </tr>\n    <tr>\n      <th>4</th>\n      <td>452</td>\n      <td>159</td>\n    </tr>\n    <tr>\n      <th>5</th>\n      <td>643</td>\n      <td>200</td>\n    </tr>\n    <tr>\n      <th>6</th>\n      <td>224</td>\n      <td>299</td>\n    </tr>\n    <tr>\n      <th>7</th>\n      <td>297</td>\n      <td>332</td>\n    </tr>\n    <tr>\n      <th>8</th>\n      <td>35</td>\n      <td>357</td>\n    </tr>\n    <tr>\n      <th>9</th>\n      <td>148</td>\n      <td>375</td>\n    </tr>\n    <tr>\n      <th>10</th>\n      <td>56</td>\n      <td>419</td>\n    </tr>\n    <tr>\n      <th>11</th>\n      <td>545</td>\n      <td>499</td>\n    </tr>\n    <tr>\n      <th>12</th>\n      <td>675</td>\n      <td>588</td>\n    </tr>\n    <tr>\n      <th>13</th>\n      <td>273</td>\n      <td>638</td>\n    </tr>\n    <tr>\n      <th>14</th>\n      <td>235</td>\n      <td>677</td>\n    </tr>\n    <tr>\n      <th>15</th>\n      <td>559</td>\n      <td>683</td>\n    </tr>\n    <tr>\n      <th>16</th>\n      <td>602</td>\n      <td>689</td>\n    </tr>\n    <tr>\n      <th>17</th>\n      <td>520</td>\n      <td>740</td>\n    </tr>\n    <tr>\n      <th>18</th>\n      <td>47</td>\n      <td>934</td>\n    </tr>\n    <tr>\n      <th>19</th>\n      <td>268</td>\n      <td>970</td>\n    </tr>\n    <tr>\n      <th>20</th>\n      <td>636</td>\n      <td>1005</td>\n    </tr>\n    <tr>\n      <th>21</th>\n      <td>632</td>\n      <td>1013</td>\n    </tr>\n    <tr>\n      <th>22</th>\n      <td>409</td>\n      <td>1018</td>\n    </tr>\n    <tr>\n      <th>23</th>\n      <td>444</td>\n      <td>1061</td>\n    </tr>\n    <tr>\n      <th>24</th>\n      <td>635</td>\n      <td>1146</td>\n    </tr>\n    <tr>\n      <th>25</th>\n      <td>600</td>\n      <td>1153</td>\n    </tr>\n    <tr>\n      <th>26</th>\n      <td>140</td>\n      <td>1161</td>\n    </tr>\n    <tr>\n      <th>27</th>\n      <td>615</td>\n      <td>1184</td>\n    </tr>\n    <tr>\n      <th>28</th>\n      <td>694</td>\n      <td>1210</td>\n    </tr>\n    <tr>\n      <th>29</th>\n      <td>402</td>\n      <td>1355</td>\n    </tr>\n    <tr>\n      <th>...</th>\n      <td>...</td>\n      <td>...</td>\n    </tr>\n    <tr>\n      <th>677</th>\n      <td>49</td>\n      <td>68700</td>\n    </tr>\n    <tr>\n      <th>678</th>\n      <td>261</td>\n      <td>68798</td>\n    </tr>\n    <tr>\n      <th>679</th>\n      <td>104</td>\n      <td>70009</td>\n    </tr>\n    <tr>\n      <th>680</th>\n      <td>477</td>\n      <td>70599</td>\n    </tr>\n    <tr>\n      <th>681</th>\n      <td>110</td>\n      <td>70678</td>\n    </tr>\n    <tr>\n      <th>682</th>\n      <td>228</td>\n      <td>70973</td>\n    </tr>\n    <tr>\n      <th>683</th>\n      <td>421</td>\n      <td>71009</td>\n    </tr>\n    <tr>\n      <th>684</th>\n      <td>306</td>\n      <td>73197</td>\n    </tr>\n    <tr>\n      <th>685</th>\n      <td>377</td>\n      <td>76766</td>\n    </tr>\n    <tr>\n      <th>686</th>\n      <td>556</td>\n      <td>76880</td>\n    </tr>\n    <tr>\n      <th>687</th>\n      <td>396</td>\n      <td>77317</td>\n    </tr>\n    <tr>\n      <th>688</th>\n      <td>254</td>\n      <td>77405</td>\n    </tr>\n    <tr>\n      <th>689</th>\n      <td>586</td>\n      <td>79312</td>\n    </tr>\n    <tr>\n      <th>690</th>\n      <td>40</td>\n      <td>80037</td>\n    </tr>\n    <tr>\n      <th>691</th>\n      <td>172</td>\n      <td>81103</td>\n    </tr>\n    <tr>\n      <th>692</th>\n      <td>318</td>\n      <td>81475</td>\n    </tr>\n    <tr>\n      <th>693</th>\n      <td>145</td>\n      <td>84433</td>\n    </tr>\n    <tr>\n      <th>694</th>\n      <td>303</td>\n      <td>89088</td>\n    </tr>\n    <tr>\n      <th>695</th>\n      <td>25</td>\n      <td>90318</td>\n    </tr>\n    <tr>\n      <th>696</th>\n      <td>255</td>\n      <td>96754</td>\n    </tr>\n    <tr>\n      <th>697</th>\n      <td>322</td>\n      <td>100418</td>\n    </tr>\n    <tr>\n      <th>698</th>\n      <td>562</td>\n      <td>103441</td>\n    </tr>\n    <tr>\n      <th>699</th>\n      <td>371</td>\n      <td>107149</td>\n    </tr>\n    <tr>\n      <th>700</th>\n      <td>476</td>\n      <td>116219</td>\n    </tr>\n    <tr>\n      <th>701</th>\n      <td>200</td>\n      <td>118561</td>\n    </tr>\n    <tr>\n      <th>702</th>\n      <td>670</td>\n      <td>120603</td>\n    </tr>\n    <tr>\n      <th>703</th>\n      <td>115</td>\n      <td>120620</td>\n    </tr>\n    <tr>\n      <th>704</th>\n      <td>603</td>\n      <td>134821</td>\n    </tr>\n    <tr>\n      <th>705</th>\n      <td>378</td>\n      <td>140019</td>\n    </tr>\n    <tr>\n      <th>706</th>\n      <td>554</td>\n      <td>147920</td>\n    </tr>\n  </tbody>\n</table>\n<p>707 rows × 2 columns</p>\n</div>"
     },
     "metadata": {},
     "output_type": "execute_result",
     "execution_count": 148
    }
   ],
   "source": [
    "a = new_df.groupby('user_id')['loc_id'].count().sort_values(ascending=True).reset_index()\n",
    "a.columns = ['user_id', 'count']\n",
    "# a = a[a['count'] >= 100]\n",
    "# a['count'].sum()\n",
    "a"
   ],
   "metadata": {
    "collapsed": false,
    "pycharm": {
     "name": "#%%\n",
     "is_executing": false
    }
   }
  },
  {
   "cell_type": "code",
   "execution_count": 137,
   "outputs": [
    {
     "data": {
      "text/plain": "loc_id\n0          2\n1        227\n2          1\n3        135\n4          8\n5          8\n6         18\n7          1\n8         28\n9         37\n10        82\n11        47\n12        54\n13        20\n14        10\n15       220\n16         9\n17        23\n18         1\n19         1\n20        35\n21        12\n22         5\n23         3\n24        32\n25        82\n26        10\n27        23\n28         2\n29        13\n        ... \n15638     33\n15639      1\n15640      1\n15641      1\n15642      1\n15643      1\n15644      7\n15645      2\n15646      2\n15647      2\n15648      2\n15649      6\n15650      3\n15651     23\n15652     18\n15653     21\n15654      2\n15655      1\n15656      4\n15657     13\n15658     27\n15659      4\n15660     16\n15661      3\n15662      1\n15663      5\n15664      6\n15665      1\n15666      5\n15667      1\nName: user_id, Length: 15668, dtype: int64"
     },
     "metadata": {},
     "output_type": "execute_result",
     "execution_count": 137
    }
   ],
   "source": [
    "b = new_df.groupby(['loc_id'])['user_id'].apply(np.unique).apply(lambda x: len(x)).sort_index()\n",
    "\n",
    "# b = b[b['count'] >= 1000]\n",
    "# b['count'].sum()\n",
    "b"
   ],
   "metadata": {
    "collapsed": false,
    "pycharm": {
     "name": "#%%\n",
     "is_executing": false
    }
   }
  },
  {
   "cell_type": "code",
   "execution_count": 140,
   "outputs": [],
   "source": [
    "d = df.groupby(['loc_id'])['user_id']"
   ],
   "metadata": {
    "collapsed": false,
    "pycharm": {
     "name": "#%%\n",
     "is_executing": false
    }
   }
  },
  {
   "cell_type": "code",
   "execution_count": 141,
   "outputs": [],
   "source": [
    "d1 = d.apply(np.unique).apply(lambda x: len(x))\n",
    "d2 = d.count()\n",
    "d3 = pd.concat([d1, d2], axis=1).reset_index()\n",
    "d3.columns = ['loc_id', 'unique_count', 'count']"
   ],
   "metadata": {
    "collapsed": false,
    "pycharm": {
     "name": "#%%\n",
     "is_executing": false
    }
   }
  },
  {
   "cell_type": "code",
   "execution_count": 151,
   "outputs": [
    {
     "data": {
      "text/plain": "9819"
     },
     "metadata": {},
     "output_type": "execute_result",
     "execution_count": 151
    }
   ],
   "source": [
    "# d3\n",
    "len(d3[d3['unique_count'] > 10])"
   ],
   "metadata": {
    "collapsed": false,
    "pycharm": {
     "name": "#%%\n",
     "is_executing": false
    }
   }
  },
  {
   "cell_type": "code",
   "execution_count": 111,
   "outputs": [
    {
     "data": {
      "text/plain": "loc_id\n0          215\n1         1178\n2           82\n3          291\n4         4768\n5         1033\n6          134\n7          163\n8          773\n9         2493\n10         135\n11        1079\n12        1843\n13        7640\n14         325\n15       17514\n16       18588\n17         297\n18        5524\n19        1264\n20        4322\n21         375\n22         381\n23        4378\n24       38787\n25        1675\n26         107\n27       26753\n28         105\n29         941\n         ...  \n15551      340\n15552      107\n15553      659\n15554      117\n15555      184\n15556      182\n15557      184\n15558        6\n15559      398\n15560      110\n15561      107\n15562      111\n15563      115\n15564      344\n15565      102\n15566      124\n15567      111\n15568      154\n15569      216\n15570      178\n15571      194\n15572      160\n15573      132\n15574      158\n15575      105\n15576      108\n15577      330\n15578      160\n15579      117\n15580      124\nName: user_id, Length: 15581, dtype: int64"
     },
     "metadata": {},
     "output_type": "execute_result",
     "execution_count": 111
    }
   ],
   "source": [
    "c = new_df.groupby('loc_id')['user_id'].count().sort_values(ascending=True).sort_index()\n",
    "c.columns = ['loc_id', 'count']\n",
    "c"
   ],
   "metadata": {
    "collapsed": false,
    "pycharm": {
     "name": "#%%\n",
     "is_executing": false
    }
   }
  },
  {
   "cell_type": "code",
   "execution_count": 94,
   "outputs": [],
   "source": [
    "loc_df = pd.DataFrame(new_df['loc_id'].unique())\n",
    "loc_df['index1'] = loc_df.index\n",
    "loc_df.columns = ['loc_id', 'index1']\n",
    "\n",
    "user_df = pd.DataFrame(new_df['user_id'].unique())\n",
    "user_df['index2'] = user_df.index\n",
    "user_df.columns = ['user_id', 'index2']"
   ],
   "metadata": {
    "collapsed": false,
    "pycharm": {
     "name": "#%%\n",
     "is_executing": false
    }
   }
  },
  {
   "cell_type": "code",
   "execution_count": 95,
   "outputs": [],
   "source": [
    "new_df = pd.merge(new_df, loc_df, how='inner', left_on=['loc_id'], right_on=['loc_id']) \\\n",
    "\t[['user_id', 'index1', 'train']]\n",
    "new_df = pd.merge(new_df, user_df, how='inner', left_on=['user_id'], right_on=['user_id']) \\\n",
    "\t[['index2', 'index1', 'train']]\n",
    "\n",
    "new_df.columns = ['user_id', 'loc_id', 'train']"
   ],
   "metadata": {
    "collapsed": false,
    "pycharm": {
     "name": "#%%\n",
     "is_executing": false
    }
   }
  },
  {
   "cell_type": "code",
   "execution_count": 99,
   "outputs": [
    {
     "data": {
      "text/plain": "         user_id  loc_id  train\n11259          0     250      1\n548            0      24      1\n1506           0      43      1\n13117          0   12129      1\n4657           0     122      1\n4811           0     130      1\n5265           0     137      1\n7406           0     173      1\n4999           0     132      1\n8466           0     201      1\n6456           0     163      1\n9328           0     216      1\n3708           0      86      1\n6586           0     163      1\n13383          0   15499      1\n10840          0     242      1\n7914           0     190      1\n6403           0     163      1\n3561           0      84      1\n9996           0     238      1\n6349           0     163      1\n3280           0      78      1\n13371          0   15499      1\n12906          0    7960      1\n1815           0      48      1\n2812           0      70      1\n5297           0     140      1\n2897           0      70      1\n3948           0      94      1\n1432           0      40      1\n...          ...     ...    ...\n5005162      706    3687      0\n4992226      706      70      0\n4994680      706     377      0\n5006755      706    5957      0\n4995497      706     460      0\n4993957      706     315      0\n5002263      706    1887      0\n5005775      706    4035      0\n5003890      706    2346      0\n4998605      706     963      0\n5005938      706    4116      0\n5002972      706    2105      0\n4993755      706     303      0\n4999096      706    1090      0\n5003911      706    2391      0\n4992234      706      70      0\n5007655      706    6343      0\n4994664      706     377      0\n5002745      706    2040      0\n5005202      706    3729      0\n5005794      706    4035      0\n4993962      706     315      0\n4992840      706     167      0\n5007651      706    6343      0\n4997229      706     741      0\n5002775      706    2040      0\n4994344      706     344      0\n4998625      706     973      0\n5007258      706    6167      0\n5007010      706    6092      0\n\n[14992437 rows x 3 columns]",
      "text/html": "<div>\n<style scoped>\n    .dataframe tbody tr th:only-of-type {\n        vertical-align: middle;\n    }\n\n    .dataframe tbody tr th {\n        vertical-align: top;\n    }\n\n    .dataframe thead th {\n        text-align: right;\n    }\n</style>\n<table border=\"1\" class=\"dataframe\">\n  <thead>\n    <tr style=\"text-align: right;\">\n      <th></th>\n      <th>user_id</th>\n      <th>loc_id</th>\n      <th>train</th>\n    </tr>\n  </thead>\n  <tbody>\n    <tr>\n      <th>11259</th>\n      <td>0</td>\n      <td>250</td>\n      <td>1</td>\n    </tr>\n    <tr>\n      <th>548</th>\n      <td>0</td>\n      <td>24</td>\n      <td>1</td>\n    </tr>\n    <tr>\n      <th>1506</th>\n      <td>0</td>\n      <td>43</td>\n      <td>1</td>\n    </tr>\n    <tr>\n      <th>13117</th>\n      <td>0</td>\n      <td>12129</td>\n      <td>1</td>\n    </tr>\n    <tr>\n      <th>4657</th>\n      <td>0</td>\n      <td>122</td>\n      <td>1</td>\n    </tr>\n    <tr>\n      <th>4811</th>\n      <td>0</td>\n      <td>130</td>\n      <td>1</td>\n    </tr>\n    <tr>\n      <th>5265</th>\n      <td>0</td>\n      <td>137</td>\n      <td>1</td>\n    </tr>\n    <tr>\n      <th>7406</th>\n      <td>0</td>\n      <td>173</td>\n      <td>1</td>\n    </tr>\n    <tr>\n      <th>4999</th>\n      <td>0</td>\n      <td>132</td>\n      <td>1</td>\n    </tr>\n    <tr>\n      <th>8466</th>\n      <td>0</td>\n      <td>201</td>\n      <td>1</td>\n    </tr>\n    <tr>\n      <th>6456</th>\n      <td>0</td>\n      <td>163</td>\n      <td>1</td>\n    </tr>\n    <tr>\n      <th>9328</th>\n      <td>0</td>\n      <td>216</td>\n      <td>1</td>\n    </tr>\n    <tr>\n      <th>3708</th>\n      <td>0</td>\n      <td>86</td>\n      <td>1</td>\n    </tr>\n    <tr>\n      <th>6586</th>\n      <td>0</td>\n      <td>163</td>\n      <td>1</td>\n    </tr>\n    <tr>\n      <th>13383</th>\n      <td>0</td>\n      <td>15499</td>\n      <td>1</td>\n    </tr>\n    <tr>\n      <th>10840</th>\n      <td>0</td>\n      <td>242</td>\n      <td>1</td>\n    </tr>\n    <tr>\n      <th>7914</th>\n      <td>0</td>\n      <td>190</td>\n      <td>1</td>\n    </tr>\n    <tr>\n      <th>6403</th>\n      <td>0</td>\n      <td>163</td>\n      <td>1</td>\n    </tr>\n    <tr>\n      <th>3561</th>\n      <td>0</td>\n      <td>84</td>\n      <td>1</td>\n    </tr>\n    <tr>\n      <th>9996</th>\n      <td>0</td>\n      <td>238</td>\n      <td>1</td>\n    </tr>\n    <tr>\n      <th>6349</th>\n      <td>0</td>\n      <td>163</td>\n      <td>1</td>\n    </tr>\n    <tr>\n      <th>3280</th>\n      <td>0</td>\n      <td>78</td>\n      <td>1</td>\n    </tr>\n    <tr>\n      <th>13371</th>\n      <td>0</td>\n      <td>15499</td>\n      <td>1</td>\n    </tr>\n    <tr>\n      <th>12906</th>\n      <td>0</td>\n      <td>7960</td>\n      <td>1</td>\n    </tr>\n    <tr>\n      <th>1815</th>\n      <td>0</td>\n      <td>48</td>\n      <td>1</td>\n    </tr>\n    <tr>\n      <th>2812</th>\n      <td>0</td>\n      <td>70</td>\n      <td>1</td>\n    </tr>\n    <tr>\n      <th>5297</th>\n      <td>0</td>\n      <td>140</td>\n      <td>1</td>\n    </tr>\n    <tr>\n      <th>2897</th>\n      <td>0</td>\n      <td>70</td>\n      <td>1</td>\n    </tr>\n    <tr>\n      <th>3948</th>\n      <td>0</td>\n      <td>94</td>\n      <td>1</td>\n    </tr>\n    <tr>\n      <th>1432</th>\n      <td>0</td>\n      <td>40</td>\n      <td>1</td>\n    </tr>\n    <tr>\n      <th>...</th>\n      <td>...</td>\n      <td>...</td>\n      <td>...</td>\n    </tr>\n    <tr>\n      <th>5005162</th>\n      <td>706</td>\n      <td>3687</td>\n      <td>0</td>\n    </tr>\n    <tr>\n      <th>4992226</th>\n      <td>706</td>\n      <td>70</td>\n      <td>0</td>\n    </tr>\n    <tr>\n      <th>4994680</th>\n      <td>706</td>\n      <td>377</td>\n      <td>0</td>\n    </tr>\n    <tr>\n      <th>5006755</th>\n      <td>706</td>\n      <td>5957</td>\n      <td>0</td>\n    </tr>\n    <tr>\n      <th>4995497</th>\n      <td>706</td>\n      <td>460</td>\n      <td>0</td>\n    </tr>\n    <tr>\n      <th>4993957</th>\n      <td>706</td>\n      <td>315</td>\n      <td>0</td>\n    </tr>\n    <tr>\n      <th>5002263</th>\n      <td>706</td>\n      <td>1887</td>\n      <td>0</td>\n    </tr>\n    <tr>\n      <th>5005775</th>\n      <td>706</td>\n      <td>4035</td>\n      <td>0</td>\n    </tr>\n    <tr>\n      <th>5003890</th>\n      <td>706</td>\n      <td>2346</td>\n      <td>0</td>\n    </tr>\n    <tr>\n      <th>4998605</th>\n      <td>706</td>\n      <td>963</td>\n      <td>0</td>\n    </tr>\n    <tr>\n      <th>5005938</th>\n      <td>706</td>\n      <td>4116</td>\n      <td>0</td>\n    </tr>\n    <tr>\n      <th>5002972</th>\n      <td>706</td>\n      <td>2105</td>\n      <td>0</td>\n    </tr>\n    <tr>\n      <th>4993755</th>\n      <td>706</td>\n      <td>303</td>\n      <td>0</td>\n    </tr>\n    <tr>\n      <th>4999096</th>\n      <td>706</td>\n      <td>1090</td>\n      <td>0</td>\n    </tr>\n    <tr>\n      <th>5003911</th>\n      <td>706</td>\n      <td>2391</td>\n      <td>0</td>\n    </tr>\n    <tr>\n      <th>4992234</th>\n      <td>706</td>\n      <td>70</td>\n      <td>0</td>\n    </tr>\n    <tr>\n      <th>5007655</th>\n      <td>706</td>\n      <td>6343</td>\n      <td>0</td>\n    </tr>\n    <tr>\n      <th>4994664</th>\n      <td>706</td>\n      <td>377</td>\n      <td>0</td>\n    </tr>\n    <tr>\n      <th>5002745</th>\n      <td>706</td>\n      <td>2040</td>\n      <td>0</td>\n    </tr>\n    <tr>\n      <th>5005202</th>\n      <td>706</td>\n      <td>3729</td>\n      <td>0</td>\n    </tr>\n    <tr>\n      <th>5005794</th>\n      <td>706</td>\n      <td>4035</td>\n      <td>0</td>\n    </tr>\n    <tr>\n      <th>4993962</th>\n      <td>706</td>\n      <td>315</td>\n      <td>0</td>\n    </tr>\n    <tr>\n      <th>4992840</th>\n      <td>706</td>\n      <td>167</td>\n      <td>0</td>\n    </tr>\n    <tr>\n      <th>5007651</th>\n      <td>706</td>\n      <td>6343</td>\n      <td>0</td>\n    </tr>\n    <tr>\n      <th>4997229</th>\n      <td>706</td>\n      <td>741</td>\n      <td>0</td>\n    </tr>\n    <tr>\n      <th>5002775</th>\n      <td>706</td>\n      <td>2040</td>\n      <td>0</td>\n    </tr>\n    <tr>\n      <th>4994344</th>\n      <td>706</td>\n      <td>344</td>\n      <td>0</td>\n    </tr>\n    <tr>\n      <th>4998625</th>\n      <td>706</td>\n      <td>973</td>\n      <td>0</td>\n    </tr>\n    <tr>\n      <th>5007258</th>\n      <td>706</td>\n      <td>6167</td>\n      <td>0</td>\n    </tr>\n    <tr>\n      <th>5007010</th>\n      <td>706</td>\n      <td>6092</td>\n      <td>0</td>\n    </tr>\n  </tbody>\n</table>\n<p>14992437 rows × 3 columns</p>\n</div>"
     },
     "metadata": {},
     "output_type": "execute_result",
     "execution_count": 99
    }
   ],
   "source": [
    "new_df = new_df.sample(frac=1, random_state=123).sort_values(by=['user_id', 'train'], ascending=[1, 0])\n",
    "new_df"
   ],
   "metadata": {
    "collapsed": false,
    "pycharm": {
     "name": "#%%\n",
     "is_executing": false
    }
   }
  },
  {
   "cell_type": "code",
   "execution_count": null,
   "outputs": [],
   "source": [
    "train_user_set = set(train['user_id'].tolist())\n",
    "validation_user_set = set(validation['user_id'].tolist())\n",
    "user_of_interest = train_user_set.intersection(validation_user_set)\n",
    "\n",
    "train_df_new = train_df[train['user_id'].isin(user_of_interest)]\n",
    "validation_df_new = validation_df[validation['user_id'].isin(user_of_interest)]\n",
    "test_df_new = test_df[test_df['user_id'].isin(user_of_interest)]"
   ],
   "metadata": {
    "collapsed": false,
    "pycharm": {
     "name": "#%%\n"
    }
   }
  }
 ],
 "metadata": {
  "language_info": {
   "codemirror_mode": {
    "name": "ipython",
    "version": 2
   },
   "file_extension": ".py",
   "mimetype": "text/x-python",
   "name": "python",
   "nbconvert_exporter": "python",
   "pygments_lexer": "ipython2",
   "version": "2.7.6"
  },
  "kernelspec": {
   "name": "python3",
   "language": "python",
   "display_name": "Python 3"
  },
  "pycharm": {
   "stem_cell": {
    "cell_type": "raw",
    "source": [],
    "metadata": {
     "collapsed": false
    }
   }
  }
 },
 "nbformat": 4,
 "nbformat_minor": 0
}